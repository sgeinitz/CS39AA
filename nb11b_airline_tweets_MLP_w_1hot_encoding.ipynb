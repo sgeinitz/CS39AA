{
 "cells": [
  {
   "cell_type": "markdown",
   "metadata": {},
   "source": [
    "# CS 39AA - Notebook 11b: Airline Tweets MLP w/ 1-hot Encoding\n",
    "\n",
    "This notebook exists only so that we have a fair point of comparison with our Airline Tweets MLP using Word Embeddings. That notebook has more documentation and explanation of the steps taken. This notebook is nearly identical but uses one-hot word representations instead. "
   ]
  },
  {
   "cell_type": "code",
   "execution_count": 85,
   "metadata": {},
   "outputs": [],
   "source": [
    "import torch\n",
    "import random\n",
    "import matplotlib\n",
    "\n",
    "import torch.nn as nn\n",
    "import torch.nn.functional as F\n",
    "import torch.optim as optim\n",
    "import pandas as pd\n",
    "import numpy as np\n",
    "import matplotlib.pyplot as plt\n",
    "import tqdm.auto\n",
    "from torch.utils.data import Dataset, DataLoader"
   ]
  },
  {
   "cell_type": "code",
   "execution_count": 86,
   "metadata": {},
   "outputs": [
    {
     "name": "stdout",
     "output_type": "stream",
     "text": [
      "df.shape: (10000, 2)\n"
     ]
    },
    {
     "data": {
      "text/html": [
       "<div>\n",
       "<style scoped>\n",
       "    .dataframe tbody tr th:only-of-type {\n",
       "        vertical-align: middle;\n",
       "    }\n",
       "\n",
       "    .dataframe tbody tr th {\n",
       "        vertical-align: top;\n",
       "    }\n",
       "\n",
       "    .dataframe thead th {\n",
       "        text-align: right;\n",
       "    }\n",
       "</style>\n",
       "<table border=\"1\" class=\"dataframe\">\n",
       "  <thead>\n",
       "    <tr style=\"text-align: right;\">\n",
       "      <th></th>\n",
       "      <th>sentiment</th>\n",
       "      <th>text</th>\n",
       "    </tr>\n",
       "  </thead>\n",
       "  <tbody>\n",
       "    <tr>\n",
       "      <th>0</th>\n",
       "      <td>positive</td>\n",
       "      <td>@JetBlue @JayVig I like the inflight snacks! I'm flying with you guys on 2/28! #JVMChat</td>\n",
       "    </tr>\n",
       "    <tr>\n",
       "      <th>1</th>\n",
       "      <td>positive</td>\n",
       "      <td>@VirginAmerica thanks guys! Sweet route over the Rockies #airplanemodewason</td>\n",
       "    </tr>\n",
       "    <tr>\n",
       "      <th>2</th>\n",
       "      <td>negative</td>\n",
       "      <td>@USAirways Your exchange/credit policies are worthless and shadier than the White House. Dissatisfied to the nines right now.</td>\n",
       "    </tr>\n",
       "    <tr>\n",
       "      <th>3</th>\n",
       "      <td>negative</td>\n",
       "      <td>@USAirways but in the meantime I'll be sleeping on a park bench on dadeland st.  Thanks guys!</td>\n",
       "    </tr>\n",
       "    <tr>\n",
       "      <th>4</th>\n",
       "      <td>negative</td>\n",
       "      <td>@VirginAmerica hold times at call center are a bit much</td>\n",
       "    </tr>\n",
       "    <tr>\n",
       "      <th>5</th>\n",
       "      <td>negative</td>\n",
       "      <td>@USAirways not moving we are in the tarmac delayed for some unknown reason. I'll keep you posted</td>\n",
       "    </tr>\n",
       "    <tr>\n",
       "      <th>6</th>\n",
       "      <td>neutral</td>\n",
       "      <td>@JetBlue What about if I booked it through Orbitz? My email is correct, but there's a middle party.</td>\n",
       "    </tr>\n",
       "    <tr>\n",
       "      <th>7</th>\n",
       "      <td>negative</td>\n",
       "      <td>@united 2nd flight also delayed no pilots! But they boarded is so we can just sit here! #scheduling</td>\n",
       "    </tr>\n",
       "    <tr>\n",
       "      <th>8</th>\n",
       "      <td>negative</td>\n",
       "      <td>.@AmericanAir after 50 minutes on hold, and another 30 minutes on the call yes. Going to be pushing it to get to the airport on time now</td>\n",
       "    </tr>\n",
       "    <tr>\n",
       "      <th>9</th>\n",
       "      <td>positive</td>\n",
       "      <td>@JetBlue flight 117. proud to fly Jet Blue!</td>\n",
       "    </tr>\n",
       "  </tbody>\n",
       "</table>\n",
       "</div>"
      ],
      "text/plain": [
       "  sentiment  \\\n",
       "0  positive   \n",
       "1  positive   \n",
       "2  negative   \n",
       "3  negative   \n",
       "4  negative   \n",
       "5  negative   \n",
       "6   neutral   \n",
       "7  negative   \n",
       "8  negative   \n",
       "9  positive   \n",
       "\n",
       "                                                                                                                                       text  \n",
       "0                                                   @JetBlue @JayVig I like the inflight snacks! I'm flying with you guys on 2/28! #JVMChat  \n",
       "1                                                               @VirginAmerica thanks guys! Sweet route over the Rockies #airplanemodewason  \n",
       "2             @USAirways Your exchange/credit policies are worthless and shadier than the White House. Dissatisfied to the nines right now.  \n",
       "3                                             @USAirways but in the meantime I'll be sleeping on a park bench on dadeland st.  Thanks guys!  \n",
       "4                                                                                   @VirginAmerica hold times at call center are a bit much  \n",
       "5                                          @USAirways not moving we are in the tarmac delayed for some unknown reason. I'll keep you posted  \n",
       "6                                       @JetBlue What about if I booked it through Orbitz? My email is correct, but there's a middle party.  \n",
       "7                                       @united 2nd flight also delayed no pilots! But they boarded is so we can just sit here! #scheduling  \n",
       "8  .@AmericanAir after 50 minutes on hold, and another 30 minutes on the call yes. Going to be pushing it to get to the airport on time now  \n",
       "9                                                                                               @JetBlue flight 117. proud to fly Jet Blue!  "
      ]
     },
     "execution_count": 86,
     "metadata": {},
     "output_type": "execute_result"
    }
   ],
   "source": [
    "data_URL = 'https://raw.githubusercontent.com/sgeinitz/CS39AA/main/data/trainA.csv'\n",
    "df = pd.read_csv(data_URL)\n",
    "print(f\"df.shape: {df.shape}\")\n",
    "pd.set_option(\"display.max_colwidth\", 240)\n",
    "df.head(10)"
   ]
  },
  {
   "cell_type": "code",
   "execution_count": 87,
   "metadata": {},
   "outputs": [],
   "source": [
    "random.seed(2) \n",
    "indices = list(range(len(df)))\n",
    "random.shuffle(indices)\n",
    "\n",
    "df_test = df.iloc[indices[9000:],]\n",
    "df = df.iloc[indices[:9000],]"
   ]
  },
  {
   "cell_type": "code",
   "execution_count": 88,
   "metadata": {},
   "outputs": [
    {
     "data": {
      "text/plain": [
       "(9000, 2)"
      ]
     },
     "execution_count": 88,
     "metadata": {},
     "output_type": "execute_result"
    }
   ],
   "source": [
    "df_test.shape\n",
    "df.shape"
   ]
  },
  {
   "cell_type": "markdown",
   "metadata": {},
   "source": [
    "Recall that about 2/3 of the data have negative labels, and that the remaining labels are roughly split between positive and neutral (slightly more neutral than positive). "
   ]
  },
  {
   "cell_type": "code",
   "execution_count": 89,
   "metadata": {},
   "outputs": [
    {
     "data": {
      "text/plain": [
       "negative    0.653556\n",
       "neutral     0.191111\n",
       "positive    0.155333\n",
       "Name: sentiment, dtype: float64"
      ]
     },
     "execution_count": 89,
     "metadata": {},
     "output_type": "execute_result"
    }
   ],
   "source": [
    "df.sentiment.value_counts(normalize=True)"
   ]
  },
  {
   "cell_type": "markdown",
   "metadata": {},
   "source": [
    "Let's start with the nltk TweetTokenizer, which will split the text into separate words and characters based on common Twitter conventions. "
   ]
  },
  {
   "cell_type": "code",
   "execution_count": 90,
   "metadata": {},
   "outputs": [
    {
     "data": {
      "text/html": [
       "<div>\n",
       "<style scoped>\n",
       "    .dataframe tbody tr th:only-of-type {\n",
       "        vertical-align: middle;\n",
       "    }\n",
       "\n",
       "    .dataframe tbody tr th {\n",
       "        vertical-align: top;\n",
       "    }\n",
       "\n",
       "    .dataframe thead th {\n",
       "        text-align: right;\n",
       "    }\n",
       "</style>\n",
       "<table border=\"1\" class=\"dataframe\">\n",
       "  <thead>\n",
       "    <tr style=\"text-align: right;\">\n",
       "      <th></th>\n",
       "      <th>sentiment</th>\n",
       "      <th>text</th>\n",
       "      <th>tokens_raw</th>\n",
       "    </tr>\n",
       "  </thead>\n",
       "  <tbody>\n",
       "    <tr>\n",
       "      <th>7010</th>\n",
       "      <td>positive</td>\n",
       "      <td>@AmericanAir I ended up on a flight to LA my fourth time on standby. Thanks! http://t.co/NA5G5EAKPA</td>\n",
       "      <td>[@americanair, i, ended, up, on, a, flight, to, la, my, fourth, time, on, standby, ., thanks, !, http://t.co/na5g5eakpa]</td>\n",
       "    </tr>\n",
       "    <tr>\n",
       "      <th>9477</th>\n",
       "      <td>neutral</td>\n",
       "      <td>@JetBlue thanks! I only loose 'em at airports...1st time we found it. I think @fitbit needs to make flexes that stay on when carrying bags!</td>\n",
       "      <td>[@jetblue, thanks, !, i, only, loose, ', em, at, airports, ..., 1st, time, we, found, it, ., i, think, @fitbit, needs, to, make, flexes, that, stay, on, when, carrying, bags, !]</td>\n",
       "    </tr>\n",
       "    <tr>\n",
       "      <th>4584</th>\n",
       "      <td>neutral</td>\n",
       "      <td>@SouthwestAir can take u to Midway-Chicago March 8th-April 6th. Can't make it then? @AmericanAir can get u to @fly2ohare year round. #FlyPBI</td>\n",
       "      <td>[@southwestair, can, take, u, to, midway-chicago, march, 8th, -, april, 6th, ., can't, make, it, then, ?, @americanair, can, get, u, to, @fly2ohare, year, round, ., #flypbi]</td>\n",
       "    </tr>\n",
       "    <tr>\n",
       "      <th>3460</th>\n",
       "      <td>negative</td>\n",
       "      <td>@AmericanAir is this how you let your employees treat your loyal customers? #attackingbabymomma #crazinessintherockies</td>\n",
       "      <td>[@americanair, is, this, how, you, let, your, employees, treat, your, loyal, customers, ?, #attackingbabymomma, #crazinessintherockies]</td>\n",
       "    </tr>\n",
       "    <tr>\n",
       "      <th>9065</th>\n",
       "      <td>negative</td>\n",
       "      <td>@USAirways so I still need to stay on hold? http://t.co/04SDytT7zd</td>\n",
       "      <td>[@usairways, so, i, still, need, to, stay, on, hold, ?, http://t.co/04sdytt7zd]</td>\n",
       "    </tr>\n",
       "  </tbody>\n",
       "</table>\n",
       "</div>"
      ],
      "text/plain": [
       "     sentiment  \\\n",
       "7010  positive   \n",
       "9477   neutral   \n",
       "4584   neutral   \n",
       "3460  negative   \n",
       "9065  negative   \n",
       "\n",
       "                                                                                                                                              text  \\\n",
       "7010                                           @AmericanAir I ended up on a flight to LA my fourth time on standby. Thanks! http://t.co/NA5G5EAKPA   \n",
       "9477   @JetBlue thanks! I only loose 'em at airports...1st time we found it. I think @fitbit needs to make flexes that stay on when carrying bags!   \n",
       "4584  @SouthwestAir can take u to Midway-Chicago March 8th-April 6th. Can't make it then? @AmericanAir can get u to @fly2ohare year round. #FlyPBI   \n",
       "3460                        @AmericanAir is this how you let your employees treat your loyal customers? #attackingbabymomma #crazinessintherockies   \n",
       "9065                                                                            @USAirways so I still need to stay on hold? http://t.co/04SDytT7zd   \n",
       "\n",
       "                                                                                                                                                                             tokens_raw  \n",
       "7010                                                           [@americanair, i, ended, up, on, a, flight, to, la, my, fourth, time, on, standby, ., thanks, !, http://t.co/na5g5eakpa]  \n",
       "9477  [@jetblue, thanks, !, i, only, loose, ', em, at, airports, ..., 1st, time, we, found, it, ., i, think, @fitbit, needs, to, make, flexes, that, stay, on, when, carrying, bags, !]  \n",
       "4584      [@southwestair, can, take, u, to, midway-chicago, march, 8th, -, april, 6th, ., can't, make, it, then, ?, @americanair, can, get, u, to, @fly2ohare, year, round, ., #flypbi]  \n",
       "3460                                            [@americanair, is, this, how, you, let, your, employees, treat, your, loyal, customers, ?, #attackingbabymomma, #crazinessintherockies]  \n",
       "9065                                                                                                    [@usairways, so, i, still, need, to, stay, on, hold, ?, http://t.co/04sdytt7zd]  "
      ]
     },
     "execution_count": 90,
     "metadata": {},
     "output_type": "execute_result"
    }
   ],
   "source": [
    "from nltk.tokenize import TweetTokenizer\n",
    "tk = TweetTokenizer()\n",
    "df['tokens_raw'] = df['text'].apply(lambda x: tk.tokenize(x.lower()))\n",
    "df.head()"
   ]
  },
  {
   "cell_type": "markdown",
   "metadata": {},
   "source": [
    "Next, let's remove common stop words (e.g. \"_the_\", \"_in_\", etc.). In this next cell we will also remove some characters/punctuation, as well as hashtag tokens. "
   ]
  },
  {
   "cell_type": "code",
   "execution_count": 91,
   "metadata": {},
   "outputs": [
    {
     "data": {
      "text/html": [
       "<div>\n",
       "<style scoped>\n",
       "    .dataframe tbody tr th:only-of-type {\n",
       "        vertical-align: middle;\n",
       "    }\n",
       "\n",
       "    .dataframe tbody tr th {\n",
       "        vertical-align: top;\n",
       "    }\n",
       "\n",
       "    .dataframe thead th {\n",
       "        text-align: right;\n",
       "    }\n",
       "</style>\n",
       "<table border=\"1\" class=\"dataframe\">\n",
       "  <thead>\n",
       "    <tr style=\"text-align: right;\">\n",
       "      <th></th>\n",
       "      <th>sentiment</th>\n",
       "      <th>text</th>\n",
       "      <th>tokens_raw</th>\n",
       "    </tr>\n",
       "  </thead>\n",
       "  <tbody>\n",
       "    <tr>\n",
       "      <th>7010</th>\n",
       "      <td>positive</td>\n",
       "      <td>@AmericanAir I ended up on a flight to LA my fourth time on standby. Thanks! http://t.co/NA5G5EAKPA</td>\n",
       "      <td>[@americanair, ended, flight, la, fourth, time, standby, thanks, http://t.co/na5g5eakpa]</td>\n",
       "    </tr>\n",
       "    <tr>\n",
       "      <th>9477</th>\n",
       "      <td>neutral</td>\n",
       "      <td>@JetBlue thanks! I only loose 'em at airports...1st time we found it. I think @fitbit needs to make flexes that stay on when carrying bags!</td>\n",
       "      <td>[@jetblue, thanks, loose, ', em, airports, ..., 1st, time, found, think, @fitbit, needs, make, flexes, stay, carrying, bags]</td>\n",
       "    </tr>\n",
       "    <tr>\n",
       "      <th>4584</th>\n",
       "      <td>neutral</td>\n",
       "      <td>@SouthwestAir can take u to Midway-Chicago March 8th-April 6th. Can't make it then? @AmericanAir can get u to @fly2ohare year round. #FlyPBI</td>\n",
       "      <td>[@southwestair, take, u, midway-chicago, march, 8th, -, april, 6th, can't, make, @americanair, get, u, @fly2ohare, year, round]</td>\n",
       "    </tr>\n",
       "    <tr>\n",
       "      <th>3460</th>\n",
       "      <td>negative</td>\n",
       "      <td>@AmericanAir is this how you let your employees treat your loyal customers? #attackingbabymomma #crazinessintherockies</td>\n",
       "      <td>[@americanair, let, employees, treat, loyal, customers]</td>\n",
       "    </tr>\n",
       "    <tr>\n",
       "      <th>9065</th>\n",
       "      <td>negative</td>\n",
       "      <td>@USAirways so I still need to stay on hold? http://t.co/04SDytT7zd</td>\n",
       "      <td>[@usairways, still, need, stay, hold, http://t.co/04sdytt7zd]</td>\n",
       "    </tr>\n",
       "  </tbody>\n",
       "</table>\n",
       "</div>"
      ],
      "text/plain": [
       "     sentiment  \\\n",
       "7010  positive   \n",
       "9477   neutral   \n",
       "4584   neutral   \n",
       "3460  negative   \n",
       "9065  negative   \n",
       "\n",
       "                                                                                                                                              text  \\\n",
       "7010                                           @AmericanAir I ended up on a flight to LA my fourth time on standby. Thanks! http://t.co/NA5G5EAKPA   \n",
       "9477   @JetBlue thanks! I only loose 'em at airports...1st time we found it. I think @fitbit needs to make flexes that stay on when carrying bags!   \n",
       "4584  @SouthwestAir can take u to Midway-Chicago March 8th-April 6th. Can't make it then? @AmericanAir can get u to @fly2ohare year round. #FlyPBI   \n",
       "3460                        @AmericanAir is this how you let your employees treat your loyal customers? #attackingbabymomma #crazinessintherockies   \n",
       "9065                                                                            @USAirways so I still need to stay on hold? http://t.co/04SDytT7zd   \n",
       "\n",
       "                                                                                                                           tokens_raw  \n",
       "7010                                         [@americanair, ended, flight, la, fourth, time, standby, thanks, http://t.co/na5g5eakpa]  \n",
       "9477     [@jetblue, thanks, loose, ', em, airports, ..., 1st, time, found, think, @fitbit, needs, make, flexes, stay, carrying, bags]  \n",
       "4584  [@southwestair, take, u, midway-chicago, march, 8th, -, april, 6th, can't, make, @americanair, get, u, @fly2ohare, year, round]  \n",
       "3460                                                                          [@americanair, let, employees, treat, loyal, customers]  \n",
       "9065                                                                    [@usairways, still, need, stay, hold, http://t.co/04sdytt7zd]  "
      ]
     },
     "execution_count": 91,
     "metadata": {},
     "output_type": "execute_result"
    }
   ],
   "source": [
    "import re\n",
    "from nltk.corpus import stopwords\n",
    "stops = set(stopwords.words('english'))\n",
    "chars2remove = set(['.','!','/', '?'])\n",
    "df['tokens_raw'] = df['tokens_raw'].apply(lambda x: [w for w in x if w not in stops])\n",
    "df['tokens_raw'] = df['tokens_raw'].apply(lambda x: [w for w in x if w not in chars2remove])\n",
    "df['tokens_raw'] = df['tokens_raw'].apply(lambda x: [w for w in x if not re.match('^#', w)]) # remove hashtags\n",
    "#df['tokens_raw'] = df['tokens_raw'].apply(lambda x: [w for w in x if not re.match('^http', w)]) # remove web links\n",
    "#df['tokens_raw'] = df['tokens_raw'].apply(lambda x: [w for w in x if not re.match('^@', w)]) # remove web links\n",
    "\n",
    "df.head()"
   ]
  },
  {
   "cell_type": "markdown",
   "metadata": {},
   "source": [
    "For the final step of text pre-processing we will lemmatize the tokens. Note that there are much better ways to do this but that we want to use a simple lemmatizer. For example, some lemmatizers also utilize a model internally to predict the part-of-speech for each word, since whether the word is a noun, adjective, verb, etc. will affect how lemmatization is done. Since we want to keep things simple here, and focus only on the lemmatization step, we'll assume every word is the same part of speech. Note that this is not by any means ideal (try to identify the incorrectly lemmatized token in the five tweets printed out below). In practice we would certainly utilize a 'smarter' lemmatizer ."
   ]
  },
  {
   "cell_type": "code",
   "execution_count": 92,
   "metadata": {},
   "outputs": [
    {
     "data": {
      "text/html": [
       "<div>\n",
       "<style scoped>\n",
       "    .dataframe tbody tr th:only-of-type {\n",
       "        vertical-align: middle;\n",
       "    }\n",
       "\n",
       "    .dataframe tbody tr th {\n",
       "        vertical-align: top;\n",
       "    }\n",
       "\n",
       "    .dataframe thead th {\n",
       "        text-align: right;\n",
       "    }\n",
       "</style>\n",
       "<table border=\"1\" class=\"dataframe\">\n",
       "  <thead>\n",
       "    <tr style=\"text-align: right;\">\n",
       "      <th></th>\n",
       "      <th>sentiment</th>\n",
       "      <th>text</th>\n",
       "      <th>tokens_raw</th>\n",
       "      <th>tokens</th>\n",
       "    </tr>\n",
       "  </thead>\n",
       "  <tbody>\n",
       "    <tr>\n",
       "      <th>7010</th>\n",
       "      <td>positive</td>\n",
       "      <td>@AmericanAir I ended up on a flight to LA my fourth time on standby. Thanks! http://t.co/NA5G5EAKPA</td>\n",
       "      <td>[@americanair, ended, flight, la, fourth, time, standby, thanks, http://t.co/na5g5eakpa]</td>\n",
       "      <td>[@americanair, end, flight, la, fourth, time, standby, thank, http://t.co/na5g5eakpa]</td>\n",
       "    </tr>\n",
       "    <tr>\n",
       "      <th>9477</th>\n",
       "      <td>neutral</td>\n",
       "      <td>@JetBlue thanks! I only loose 'em at airports...1st time we found it. I think @fitbit needs to make flexes that stay on when carrying bags!</td>\n",
       "      <td>[@jetblue, thanks, loose, ', em, airports, ..., 1st, time, found, think, @fitbit, needs, make, flexes, stay, carrying, bags]</td>\n",
       "      <td>[@jetblue, thank, loose, ', em, airports, ..., 1st, time, find, think, @fitbit, need, make, flex, stay, carry, bag]</td>\n",
       "    </tr>\n",
       "    <tr>\n",
       "      <th>4584</th>\n",
       "      <td>neutral</td>\n",
       "      <td>@SouthwestAir can take u to Midway-Chicago March 8th-April 6th. Can't make it then? @AmericanAir can get u to @fly2ohare year round. #FlyPBI</td>\n",
       "      <td>[@southwestair, take, u, midway-chicago, march, 8th, -, april, 6th, can't, make, @americanair, get, u, @fly2ohare, year, round]</td>\n",
       "      <td>[@southwestair, take, u, midway-chicago, march, 8th, -, april, 6th, can't, make, @americanair, get, u, @fly2ohare, year, round]</td>\n",
       "    </tr>\n",
       "    <tr>\n",
       "      <th>3460</th>\n",
       "      <td>negative</td>\n",
       "      <td>@AmericanAir is this how you let your employees treat your loyal customers? #attackingbabymomma #crazinessintherockies</td>\n",
       "      <td>[@americanair, let, employees, treat, loyal, customers]</td>\n",
       "      <td>[@americanair, let, employees, treat, loyal, customers]</td>\n",
       "    </tr>\n",
       "    <tr>\n",
       "      <th>9065</th>\n",
       "      <td>negative</td>\n",
       "      <td>@USAirways so I still need to stay on hold? http://t.co/04SDytT7zd</td>\n",
       "      <td>[@usairways, still, need, stay, hold, http://t.co/04sdytt7zd]</td>\n",
       "      <td>[@usairways, still, need, stay, hold, http://t.co/04sdytt7zd]</td>\n",
       "    </tr>\n",
       "  </tbody>\n",
       "</table>\n",
       "</div>"
      ],
      "text/plain": [
       "     sentiment  \\\n",
       "7010  positive   \n",
       "9477   neutral   \n",
       "4584   neutral   \n",
       "3460  negative   \n",
       "9065  negative   \n",
       "\n",
       "                                                                                                                                              text  \\\n",
       "7010                                           @AmericanAir I ended up on a flight to LA my fourth time on standby. Thanks! http://t.co/NA5G5EAKPA   \n",
       "9477   @JetBlue thanks! I only loose 'em at airports...1st time we found it. I think @fitbit needs to make flexes that stay on when carrying bags!   \n",
       "4584  @SouthwestAir can take u to Midway-Chicago March 8th-April 6th. Can't make it then? @AmericanAir can get u to @fly2ohare year round. #FlyPBI   \n",
       "3460                        @AmericanAir is this how you let your employees treat your loyal customers? #attackingbabymomma #crazinessintherockies   \n",
       "9065                                                                            @USAirways so I still need to stay on hold? http://t.co/04SDytT7zd   \n",
       "\n",
       "                                                                                                                           tokens_raw  \\\n",
       "7010                                         [@americanair, ended, flight, la, fourth, time, standby, thanks, http://t.co/na5g5eakpa]   \n",
       "9477     [@jetblue, thanks, loose, ', em, airports, ..., 1st, time, found, think, @fitbit, needs, make, flexes, stay, carrying, bags]   \n",
       "4584  [@southwestair, take, u, midway-chicago, march, 8th, -, april, 6th, can't, make, @americanair, get, u, @fly2ohare, year, round]   \n",
       "3460                                                                          [@americanair, let, employees, treat, loyal, customers]   \n",
       "9065                                                                    [@usairways, still, need, stay, hold, http://t.co/04sdytt7zd]   \n",
       "\n",
       "                                                                                                                               tokens  \n",
       "7010                                            [@americanair, end, flight, la, fourth, time, standby, thank, http://t.co/na5g5eakpa]  \n",
       "9477              [@jetblue, thank, loose, ', em, airports, ..., 1st, time, find, think, @fitbit, need, make, flex, stay, carry, bag]  \n",
       "4584  [@southwestair, take, u, midway-chicago, march, 8th, -, april, 6th, can't, make, @americanair, get, u, @fly2ohare, year, round]  \n",
       "3460                                                                          [@americanair, let, employees, treat, loyal, customers]  \n",
       "9065                                                                    [@usairways, still, need, stay, hold, http://t.co/04sdytt7zd]  "
      ]
     },
     "execution_count": 92,
     "metadata": {},
     "output_type": "execute_result"
    }
   ],
   "source": [
    "from nltk.stem import WordNetLemmatizer\n",
    "# also need to run following one time on your system (can be done outside of this notebook)\n",
    "# import nltk\n",
    "# nltk.download('wordnet')\n",
    "# nltk.download('omw-1.4')\n",
    "lemmatizer = WordNetLemmatizer()\n",
    "df['tokens'] = df['tokens_raw'].apply(lambda x: [lemmatizer.lemmatize(w, pos=\"v\") for w in x])\n",
    "#df['tokens'] = df['tokens_raw'].apply(lambda x: [lemmatizer.lemmatize(w) for w in x])\n",
    "df.head()"
   ]
  },
  {
   "cell_type": "markdown",
   "metadata": {},
   "source": [
    "Since each tweet is currently stored as a string we then created a new column that was a list of each of the words in the tweet (since the default delimiter is a space character). Next, we created a vocabularly sorted by frequency for the full dataset, the subset of positive tweets, negative tweets, and neutral tweets. "
   ]
  },
  {
   "cell_type": "markdown",
   "metadata": {},
   "source": [
    "The input to the sklearn vectorizer function requires that each observation (i.e. tweet) is in the form of a string, rather than a list of tokens. So we first need to combine the individual tokens for each tweet back into a string, which we do here:"
   ]
  },
  {
   "cell_type": "code",
   "execution_count": 93,
   "metadata": {},
   "outputs": [
    {
     "data": {
      "text/html": [
       "<div>\n",
       "<style scoped>\n",
       "    .dataframe tbody tr th:only-of-type {\n",
       "        vertical-align: middle;\n",
       "    }\n",
       "\n",
       "    .dataframe tbody tr th {\n",
       "        vertical-align: top;\n",
       "    }\n",
       "\n",
       "    .dataframe thead th {\n",
       "        text-align: right;\n",
       "    }\n",
       "</style>\n",
       "<table border=\"1\" class=\"dataframe\">\n",
       "  <thead>\n",
       "    <tr style=\"text-align: right;\">\n",
       "      <th></th>\n",
       "      <th>sentiment</th>\n",
       "      <th>text</th>\n",
       "      <th>tokens_raw</th>\n",
       "      <th>tokens</th>\n",
       "      <th>textclean</th>\n",
       "    </tr>\n",
       "  </thead>\n",
       "  <tbody>\n",
       "    <tr>\n",
       "      <th>7010</th>\n",
       "      <td>positive</td>\n",
       "      <td>@AmericanAir I ended up on a flight to LA my fourth time on standby. Thanks! http://t.co/NA5G5EAKPA</td>\n",
       "      <td>[@americanair, ended, flight, la, fourth, time, standby, thanks, http://t.co/na5g5eakpa]</td>\n",
       "      <td>[@americanair, end, flight, la, fourth, time, standby, thank, http://t.co/na5g5eakpa]</td>\n",
       "      <td>@americanair end flight la fourth time standby thank http://t.co/na5g5eakpa</td>\n",
       "    </tr>\n",
       "    <tr>\n",
       "      <th>9477</th>\n",
       "      <td>neutral</td>\n",
       "      <td>@JetBlue thanks! I only loose 'em at airports...1st time we found it. I think @fitbit needs to make flexes that stay on when carrying bags!</td>\n",
       "      <td>[@jetblue, thanks, loose, ', em, airports, ..., 1st, time, found, think, @fitbit, needs, make, flexes, stay, carrying, bags]</td>\n",
       "      <td>[@jetblue, thank, loose, ', em, airports, ..., 1st, time, find, think, @fitbit, need, make, flex, stay, carry, bag]</td>\n",
       "      <td>@jetblue thank loose ' em airports ... 1st time find think @fitbit need make flex stay carry bag</td>\n",
       "    </tr>\n",
       "    <tr>\n",
       "      <th>4584</th>\n",
       "      <td>neutral</td>\n",
       "      <td>@SouthwestAir can take u to Midway-Chicago March 8th-April 6th. Can't make it then? @AmericanAir can get u to @fly2ohare year round. #FlyPBI</td>\n",
       "      <td>[@southwestair, take, u, midway-chicago, march, 8th, -, april, 6th, can't, make, @americanair, get, u, @fly2ohare, year, round]</td>\n",
       "      <td>[@southwestair, take, u, midway-chicago, march, 8th, -, april, 6th, can't, make, @americanair, get, u, @fly2ohare, year, round]</td>\n",
       "      <td>@southwestair take u midway-chicago march 8th - april 6th can't make @americanair get u @fly2ohare year round</td>\n",
       "    </tr>\n",
       "    <tr>\n",
       "      <th>3460</th>\n",
       "      <td>negative</td>\n",
       "      <td>@AmericanAir is this how you let your employees treat your loyal customers? #attackingbabymomma #crazinessintherockies</td>\n",
       "      <td>[@americanair, let, employees, treat, loyal, customers]</td>\n",
       "      <td>[@americanair, let, employees, treat, loyal, customers]</td>\n",
       "      <td>@americanair let employees treat loyal customers</td>\n",
       "    </tr>\n",
       "    <tr>\n",
       "      <th>9065</th>\n",
       "      <td>negative</td>\n",
       "      <td>@USAirways so I still need to stay on hold? http://t.co/04SDytT7zd</td>\n",
       "      <td>[@usairways, still, need, stay, hold, http://t.co/04sdytt7zd]</td>\n",
       "      <td>[@usairways, still, need, stay, hold, http://t.co/04sdytt7zd]</td>\n",
       "      <td>@usairways still need stay hold http://t.co/04sdytt7zd</td>\n",
       "    </tr>\n",
       "  </tbody>\n",
       "</table>\n",
       "</div>"
      ],
      "text/plain": [
       "     sentiment  \\\n",
       "7010  positive   \n",
       "9477   neutral   \n",
       "4584   neutral   \n",
       "3460  negative   \n",
       "9065  negative   \n",
       "\n",
       "                                                                                                                                              text  \\\n",
       "7010                                           @AmericanAir I ended up on a flight to LA my fourth time on standby. Thanks! http://t.co/NA5G5EAKPA   \n",
       "9477   @JetBlue thanks! I only loose 'em at airports...1st time we found it. I think @fitbit needs to make flexes that stay on when carrying bags!   \n",
       "4584  @SouthwestAir can take u to Midway-Chicago March 8th-April 6th. Can't make it then? @AmericanAir can get u to @fly2ohare year round. #FlyPBI   \n",
       "3460                        @AmericanAir is this how you let your employees treat your loyal customers? #attackingbabymomma #crazinessintherockies   \n",
       "9065                                                                            @USAirways so I still need to stay on hold? http://t.co/04SDytT7zd   \n",
       "\n",
       "                                                                                                                           tokens_raw  \\\n",
       "7010                                         [@americanair, ended, flight, la, fourth, time, standby, thanks, http://t.co/na5g5eakpa]   \n",
       "9477     [@jetblue, thanks, loose, ', em, airports, ..., 1st, time, found, think, @fitbit, needs, make, flexes, stay, carrying, bags]   \n",
       "4584  [@southwestair, take, u, midway-chicago, march, 8th, -, april, 6th, can't, make, @americanair, get, u, @fly2ohare, year, round]   \n",
       "3460                                                                          [@americanair, let, employees, treat, loyal, customers]   \n",
       "9065                                                                    [@usairways, still, need, stay, hold, http://t.co/04sdytt7zd]   \n",
       "\n",
       "                                                                                                                               tokens  \\\n",
       "7010                                            [@americanair, end, flight, la, fourth, time, standby, thank, http://t.co/na5g5eakpa]   \n",
       "9477              [@jetblue, thank, loose, ', em, airports, ..., 1st, time, find, think, @fitbit, need, make, flex, stay, carry, bag]   \n",
       "4584  [@southwestair, take, u, midway-chicago, march, 8th, -, april, 6th, can't, make, @americanair, get, u, @fly2ohare, year, round]   \n",
       "3460                                                                          [@americanair, let, employees, treat, loyal, customers]   \n",
       "9065                                                                    [@usairways, still, need, stay, hold, http://t.co/04sdytt7zd]   \n",
       "\n",
       "                                                                                                          textclean  \n",
       "7010                                    @americanair end flight la fourth time standby thank http://t.co/na5g5eakpa  \n",
       "9477               @jetblue thank loose ' em airports ... 1st time find think @fitbit need make flex stay carry bag  \n",
       "4584  @southwestair take u midway-chicago march 8th - april 6th can't make @americanair get u @fly2ohare year round  \n",
       "3460                                                               @americanair let employees treat loyal customers  \n",
       "9065                                                         @usairways still need stay hold http://t.co/04sdytt7zd  "
      ]
     },
     "execution_count": 93,
     "metadata": {},
     "output_type": "execute_result"
    }
   ],
   "source": [
    "df['textclean'] = df['tokens'].apply(lambda x: ' '.join(x))\n",
    "df.head()"
   ]
  },
  {
   "cell_type": "markdown",
   "metadata": {},
   "source": [
    "Now we will load the term-frequency inverse-document-frequency vectorizer from sklearn, `TfidfVectorizer`, to convert each tweet into a vector. We'll go ahead and call the resulting vectorized data, `X`, or `X_train` since it is only the training dataset. As with conventional statistical models, \"_X_\" represents the set of predictors, or independent variables. \n",
    "\n",
    "Also, note that `TfidfVectorizer` is a powerful text processing object. It has the ability to remove stop words, strip symbols, and do much of the work that our manual tokenization did. As such, we could easily use the original tweet text here, but we'll go ahead and continue with our manually tokenized data in the column, `textclean`. "
   ]
  },
  {
   "cell_type": "code",
   "execution_count": 94,
   "metadata": {},
   "outputs": [
    {
     "name": "stdout",
     "output_type": "stream",
     "text": [
      "X_np.shape = (9000, 9008)\n"
     ]
    },
    {
     "data": {
      "text/plain": [
       "numpy.ndarray"
      ]
     },
     "execution_count": 94,
     "metadata": {},
     "output_type": "execute_result"
    }
   ],
   "source": [
    "from sklearn.feature_extraction.text import TfidfVectorizer\n",
    "\n",
    "tfidf_vectorizer = TfidfVectorizer()\n",
    "X_np = tfidf_vectorizer.fit_transform(df['textclean']).toarray()\n",
    "\n",
    "print(f\"X_np.shape = {X_np.shape}\")\n",
    "type(X_np)"
   ]
  },
  {
   "cell_type": "code",
   "execution_count": 95,
   "metadata": {},
   "outputs": [
    {
     "data": {
      "text/plain": [
       "array([[0., 0., 0., 0., 0.],\n",
       "       [0., 0., 0., 0., 0.],\n",
       "       [0., 0., 0., 0., 0.]])"
      ]
     },
     "execution_count": 95,
     "metadata": {},
     "output_type": "execute_result"
    }
   ],
   "source": [
    "X_np[:3,:5]"
   ]
  },
  {
   "cell_type": "code",
   "execution_count": 96,
   "metadata": {},
   "outputs": [
    {
     "data": {
      "text/plain": [
       "torch.Size([9000, 9008])"
      ]
     },
     "execution_count": 96,
     "metadata": {},
     "output_type": "execute_result"
    }
   ],
   "source": [
    "X = torch.tensor(X_np).float()\n",
    "X.size()"
   ]
  },
  {
   "cell_type": "code",
   "execution_count": 97,
   "metadata": {},
   "outputs": [
    {
     "name": "stdout",
     "output_type": "stream",
     "text": [
      "label dictionary: {'positive': 0, 'neutral': 1, 'negative': 2}\n"
     ]
    }
   ],
   "source": [
    "labels = df['sentiment'].unique()\n",
    "enum_labels = enumerate(labels)\n",
    "label_to_idx = dict((lab, i) for i,lab in enum_labels)\n",
    "print(f\"label dictionary: {label_to_idx}\")\n",
    "y = torch.tensor([label_to_idx[lab] for lab in df['sentiment']])"
   ]
  },
  {
   "cell_type": "code",
   "execution_count": 98,
   "metadata": {},
   "outputs": [],
   "source": [
    "class AirlineTweetDataset(Dataset):\n",
    "    def __init__(self, observations, labels):\n",
    "        self.obs = observations\n",
    "        self.labs = labels\n",
    "        self.create_split(len(observations))\n",
    "\n",
    "    def create_split(self, n, seed=2, train_perc=0.7):\n",
    "        random.seed(seed)\n",
    "        indices = list(range(n))\n",
    "        random.shuffle(indices)\n",
    "        self._train_ids = list(indices[:int(n * train_perc)])\n",
    "        self._test_ids = list(indices[int(n * train_perc):])\n",
    "        self._split_X = self.obs[self._train_ids]\n",
    "        self._split_y = self.labs[self._train_ids]\n",
    "\n",
    "    def set_split(self, split='train'):\n",
    "        if split == 'train':\n",
    "            self._split_X = self.obs[self._train_ids]\n",
    "            self._split_y = self.labs[self._train_ids]\n",
    "        else:\n",
    "            self._split_X = self.obs[self._test_ids]\n",
    "            self._split_y = self.labs[self._test_ids]\n",
    "\n",
    "    def __len__(self):\n",
    "        return len(self._split_y)\n",
    "\n",
    "    def __getitem__(self, idx):\n",
    "        return {'x':self._split_X[idx], 'y':self._split_y[idx]}\n",
    "    \n",
    "    def get_num_batches(self, batch_size):\n",
    "        return len(self) // batch_size\n",
    "\n",
    "dataset = AirlineTweetDataset(X, y)\n",
    "dataset.create_split(len(X), seed=42, train_perc=0.85)"
   ]
  },
  {
   "cell_type": "code",
   "execution_count": 99,
   "metadata": {},
   "outputs": [
    {
     "name": "stdout",
     "output_type": "stream",
     "text": [
      "len(dataset) = 7650\n"
     ]
    },
    {
     "data": {
      "text/plain": [
       "tensor([0., 0., 0.,  ..., 0., 0., 0.])"
      ]
     },
     "execution_count": 99,
     "metadata": {},
     "output_type": "execute_result"
    }
   ],
   "source": [
    "dataset.set_split('train')\n",
    "print(f\"len(dataset) = {len(dataset)}\")\n",
    "#len(dataset[:]['x'])\n",
    "dataset[0]['x']"
   ]
  },
  {
   "cell_type": "code",
   "execution_count": 100,
   "metadata": {},
   "outputs": [],
   "source": [
    "assert not np.any(np.isnan(dataset[:]['x'].numpy()))\n",
    "assert np.all(np.isfinite(dataset[:]['x'].numpy()))"
   ]
  },
  {
   "cell_type": "code",
   "execution_count": 101,
   "metadata": {},
   "outputs": [],
   "source": [
    "class AirlineTweetClassifier(nn.Module):\n",
    "    \"\"\" A 2-layer Multilayer Perceptron for classifying surnames \"\"\"\n",
    "    def __init__(self, input_dim, hidden_dim, output_dim):\n",
    "        \"\"\"\n",
    "        Args:\n",
    "            input_dim (int): the size of the input embeddings\n",
    "            hidden_dim (int): the output size of the first Linear layer\n",
    "            output_dim (int): the output size of the second Linear layer\n",
    "        \"\"\"\n",
    "        super(AirlineTweetClassifier, self).__init__()\n",
    "\n",
    "        self.fc1 = nn.Linear(input_dim, hidden_dim)\n",
    "        self.fc2 = nn.Linear(hidden_dim, 32)\n",
    "        self.fc3 = nn.Linear(32, output_dim)\n",
    "        self.dropout = nn.Dropout(0.5)\n",
    "\n",
    "    def forward(self, x_in, apply_softmax=False):\n",
    "        \"\"\"The forward pass of the classifier\n",
    "        \n",
    "        Args:\n",
    "            x_in (torch.Tensor): an input data tensor. \n",
    "                x_in.shape should be (batch, input_dim)\n",
    "            apply_softmax (bool): a flag for the softmax activation\n",
    "                should be false if used with the Cross Entropy losses\n",
    "        Returns:\n",
    "            the resulting tensor. tensor.shape should be (batch, output_dim)\n",
    "        \"\"\"\n",
    "        intermediate_vector = F.relu(self.fc1(x_in))\n",
    "\n",
    "        intermediate_vector = F.relu(self.fc2(intermediate_vector))\n",
    "        intermediate_vector = self.dropout(intermediate_vector)\n",
    "\n",
    "        prediction_vector = self.fc3(intermediate_vector)\n",
    "\n",
    "        if apply_softmax:\n",
    "            prediction_vector = F.softmax(prediction_vector, dim=1)\n",
    "\n",
    "        return prediction_vector"
   ]
  },
  {
   "cell_type": "code",
   "execution_count": 102,
   "metadata": {},
   "outputs": [],
   "source": [
    "batch_size = 32\n",
    "learning_rate = 0.0005 # 0.005\n",
    "num_epochs = 30\n",
    "\n",
    "#device = torch.device('mps' if torch.backends.mps.is_available() else 'cpu')\n",
    "device = 'cpu'\n",
    "\n",
    "dataloader = DataLoader(dataset=dataset, batch_size=batch_size, shuffle=True)"
   ]
  },
  {
   "cell_type": "code",
   "execution_count": 103,
   "metadata": {},
   "outputs": [
    {
     "name": "stdout",
     "output_type": "stream",
     "text": [
      "7680\n",
      "1376\n"
     ]
    }
   ],
   "source": [
    "dataset.set_split('train')\n",
    "print(len(dataloader) * batch_size)\n",
    "dataset.set_split('val')\n",
    "print(len(dataloader) * batch_size)"
   ]
  },
  {
   "cell_type": "code",
   "execution_count": 104,
   "metadata": {},
   "outputs": [],
   "source": [
    "model = AirlineTweetClassifier(len(dataset[0]['x']), 128, 3)\n",
    "\n",
    "# define loss function and optimizer\n",
    "#weights = 1 / torch.tensor([15.0, 65.0, 20.0])\n",
    "loss_fun = nn.CrossEntropyLoss()#weights)\n",
    "\n",
    "optimizer = torch.optim.Adam(model.parameters(), lr=learning_rate)"
   ]
  },
  {
   "cell_type": "code",
   "execution_count": 105,
   "metadata": {},
   "outputs": [],
   "source": [
    "seed = 2\n",
    "np.random.seed(seed)\n",
    "torch.manual_seed(seed)\n",
    "random.seed(seed)"
   ]
  },
  {
   "cell_type": "code",
   "execution_count": 106,
   "metadata": {},
   "outputs": [
    {
     "data": {
      "application/vnd.jupyter.widget-view+json": {
       "model_id": "7f98f913e20f4cdf94b95f2593446952",
       "version_major": 2,
       "version_minor": 0
      },
      "text/plain": [
       "training routine:   0%|          | 0/30 [00:00<?, ?it/s]"
      ]
     },
     "metadata": {},
     "output_type": "display_data"
    },
    {
     "data": {
      "application/vnd.jupyter.widget-view+json": {
       "model_id": "89454ca6e8664536b48ddf540517e431",
       "version_major": 2,
       "version_minor": 0
      },
      "text/plain": [
       "split=train:   0%|          | 0/239 [00:00<?, ?it/s]"
      ]
     },
     "metadata": {},
     "output_type": "display_data"
    },
    {
     "data": {
      "application/vnd.jupyter.widget-view+json": {
       "model_id": "248d1900308547f197ecff2a4cb4f503",
       "version_major": 2,
       "version_minor": 0
      },
      "text/plain": [
       "split=val:   0%|          | 0/42 [00:00<?, ?it/s]"
      ]
     },
     "metadata": {},
     "output_type": "display_data"
    }
   ],
   "source": [
    "epoch_bar = tqdm.notebook.tqdm(desc='training routine', total=num_epochs, position=0)\n",
    "\n",
    "dataset.set_split('train')\n",
    "train_bar = tqdm.notebook.tqdm(desc='split=train', total=dataset.get_num_batches(batch_size), position=1, leave=True)\n",
    "\n",
    "dataset.set_split('val')\n",
    "val_bar = tqdm.notebook.tqdm(desc='split=val', total=dataset.get_num_batches(batch_size), position=1, leave=True)\n",
    "\n",
    "losses = {'train':[], 'val':[]}\n",
    "\n",
    "for epoch in range(num_epochs):\n",
    "\n",
    "    dataset.set_split('train')\n",
    "    model.train()\n",
    "    running_loss_train = 0.0\n",
    "\n",
    "    for batch_i, batch_data in enumerate(dataloader):  \n",
    "        tweets = batch_data['x'].to(device)\n",
    "        labels = batch_data['y'].to(device)\n",
    "        \n",
    "        # forward\n",
    "        outputs = model(tweets)\n",
    "        loss = loss_fun(outputs, labels)\n",
    "        losses['train'].append(loss.item())\n",
    "        running_loss_train += loss.item()\n",
    "        \t\n",
    "        # backward and optimize\n",
    "        optimizer.zero_grad()\n",
    "        loss.backward()\n",
    "        optimizer.step()\n",
    "        \t\t\n",
    "        #if (batch_i+1) % 10 == 0:\n",
    "        #    print(f\"    train batch {batch_i+1:3.0f} (of {len(dataloader):3.0f}) loss: {loss.item():.4f}\")\n",
    "            # update bar\n",
    "        train_bar.set_postfix(loss=running_loss_train, epoch=epoch)\n",
    "        train_bar.update()\n",
    "\n",
    "    train_bar.set_postfix(loss=running_loss_train/dataset.get_num_batches(batch_size), epoch=epoch)\n",
    "    train_bar.update()\n",
    "\n",
    "\n",
    "    running_loss_train = running_loss_train / len(dataset)\n",
    "\n",
    "    dataset.set_split('val')\n",
    "    model.eval() # turn off the automatic differentiation \n",
    "    running_loss_val = 0.0\n",
    "\n",
    "    for batch_i, batch_data in enumerate(dataloader):  \n",
    "        tweets = batch_data['x'].to(device)\n",
    "        labels = batch_data['y'].to(device)\n",
    "\n",
    "        \n",
    "        # forward (no backward step for validation data)\n",
    "        outputs = model(tweets)\n",
    "        loss = loss_fun(outputs, labels)\n",
    "        losses['val'].append(loss.item())\n",
    "        running_loss_val += loss.item()\n",
    "        #if (batch_i+1) % 20 == 0:\n",
    "        #    print(f\"    valid batch {i+1:3.0f} (of {len(dataloader):3.0f}) loss: {loss.item():.4f}\")\n",
    "        val_bar.set_postfix(loss=running_loss_val, epoch=epoch)\n",
    "        val_bar.update()\n",
    "\n",
    "    val_bar.set_postfix(loss=running_loss_val/dataset.get_num_batches(batch_size), epoch=epoch)\n",
    "    val_bar.update()\n",
    "\n",
    "    train_bar.n = 0\n",
    "    val_bar.n = 0\n",
    "    epoch_bar.update()\n",
    "\n",
    "    running_loss_val = running_loss_val / len(dataset)\n"
   ]
  },
  {
   "cell_type": "code",
   "execution_count": 107,
   "metadata": {
    "scrolled": true
   },
   "outputs": [
    {
     "data": {
      "text/plain": [
       "<matplotlib.legend.Legend at 0x2ea314950>"
      ]
     },
     "execution_count": 107,
     "metadata": {},
     "output_type": "execute_result"
    },
    {
     "data": {
      "image/png": "[encoded data removed]",
      "text/plain": [
       "<Figure size 1500x400 with 1 Axes>"
      ]
     },
     "metadata": {},
     "output_type": "display_data"
    }
   ],
   "source": [
    "matplotlib.rc('figure', figsize=(15,4))\n",
    "val_ticks = [(i+1)*len(losses['train'])/len(losses['val']) for i in range(len(losses['val']))]\n",
    "plt.plot(range(len(losses['train'])), losses['train'], c='blue', lw=0.75)\n",
    "plt.plot(val_ticks, losses['val'], c='orange', lw=0.75)\n",
    "for i in range(num_epochs):\n",
    "    plt.axvline(x=i*len(losses['train'])/num_epochs, c='black', lw=0.25, alpha=0.5)\n",
    "plt.ylabel('Loss')\n",
    "plt.xlabel('Epoch and Batch')\n",
    "plt.legend(('Train','Validation'))"
   ]
  },
  {
   "cell_type": "code",
   "execution_count": 108,
   "metadata": {},
   "outputs": [
    {
     "name": "stdout",
     "output_type": "stream",
     "text": [
      "Accuracy (on 1376 validation tweets): 76.44%\n"
     ]
    }
   ],
   "source": [
    "# Test the model\n",
    "# In test phase, we don't need to compute gradients (for memory efficiency)\n",
    "y_true = []\n",
    "y_pred = []\n",
    "with torch.no_grad():\n",
    "    correct = 0\n",
    "    total = 0\n",
    "    for batch_data in dataloader:\n",
    "        tweets = batch_data['x'].to(device)\n",
    "        labels = batch_data['y'].to(device)\n",
    "        outputs = model(tweets)\n",
    "        _, predicted = torch.max(outputs.data, 1)\n",
    "        y_true += labels.tolist()\n",
    "        y_pred += predicted.tolist()\n",
    "        total += labels.size(0)\n",
    "        correct += (predicted == labels).sum().item()\n",
    "\n",
    "    print(f\"Accuracy (on {len(dataloader)*batch_size} validation tweets): {100 * correct / total:.2f}%\")\n",
    "\t "
   ]
  },
  {
   "cell_type": "code",
   "execution_count": 109,
   "metadata": {},
   "outputs": [
    {
     "data": {
      "text/plain": [
       "<sklearn.metrics._plot.confusion_matrix.ConfusionMatrixDisplay at 0x2ea375c90>"
      ]
     },
     "execution_count": 109,
     "metadata": {},
     "output_type": "execute_result"
    },
    {
     "data": {
      "image/png": "[encoded data removed]",
      "text/plain": [
       "<Figure size 1500x400 with 2 Axes>"
      ]
     },
     "metadata": {},
     "output_type": "display_data"
    }
   ],
   "source": [
    "from sklearn.metrics import confusion_matrix, ConfusionMatrixDisplay\n",
    "cm = confusion_matrix(y_true, y_pred)\n",
    "disp = ConfusionMatrixDisplay(cm, display_labels=['positive','negative','neutral'])\n",
    "disp.plot()"
   ]
  },
  {
   "cell_type": "code",
   "execution_count": 110,
   "metadata": {},
   "outputs": [
    {
     "data": {
      "text/plain": [
       "9008"
      ]
     },
     "execution_count": 110,
     "metadata": {},
     "output_type": "execute_result"
    }
   ],
   "source": [
    "# length of an input is\n",
    "len(dataset[0]['x'])"
   ]
  },
  {
   "cell_type": "code",
   "execution_count": 111,
   "metadata": {},
   "outputs": [
    {
     "name": "stdout",
     "output_type": "stream",
     "text": [
      "----------------------------------------------------------------\n",
      "        Layer (type)               Output Shape         Param #\n",
      "================================================================\n",
      "            Linear-1                  [-1, 128]       1,153,152\n",
      "            Linear-2                   [-1, 32]           4,128\n",
      "           Dropout-3                   [-1, 32]               0\n",
      "            Linear-4                    [-1, 3]              99\n",
      "================================================================\n",
      "Total params: 1,157,379\n",
      "Trainable params: 1,157,379\n",
      "Non-trainable params: 0\n",
      "----------------------------------------------------------------\n",
      "Input size (MB): 0.03\n",
      "Forward/backward pass size (MB): 0.00\n",
      "Params size (MB): 4.42\n",
      "Estimated Total Size (MB): 4.45\n",
      "----------------------------------------------------------------\n"
     ]
    }
   ],
   "source": [
    "import torchsummary\n",
    "torchsummary.summary(model, tuple(dataset[0]['x'].size()))"
   ]
  },
  {
   "cell_type": "code",
   "execution_count": 112,
   "metadata": {},
   "outputs": [
    {
     "data": {
      "text/html": [
       "<div>\n",
       "<style scoped>\n",
       "    .dataframe tbody tr th:only-of-type {\n",
       "        vertical-align: middle;\n",
       "    }\n",
       "\n",
       "    .dataframe tbody tr th {\n",
       "        vertical-align: top;\n",
       "    }\n",
       "\n",
       "    .dataframe thead th {\n",
       "        text-align: right;\n",
       "    }\n",
       "</style>\n",
       "<table border=\"1\" class=\"dataframe\">\n",
       "  <thead>\n",
       "    <tr style=\"text-align: right;\">\n",
       "      <th></th>\n",
       "      <th>sentiment</th>\n",
       "      <th>text</th>\n",
       "      <th>tokens_raw</th>\n",
       "    </tr>\n",
       "  </thead>\n",
       "  <tbody>\n",
       "    <tr>\n",
       "      <th>7391</th>\n",
       "      <td>negative</td>\n",
       "      <td>Why even ask me to DM you and offer help if you \"can't do anything\" @united #terriblecustomerservice #unitedairlines http://t.co/feC4i3Vwq7</td>\n",
       "      <td>[even, ask, dm, offer, help, \", can't, anything, \", @united, http://t.co/fec4i3vwq7]</td>\n",
       "    </tr>\n",
       "    <tr>\n",
       "      <th>6692</th>\n",
       "      <td>negative</td>\n",
       "      <td>@USAirways Do you have any pride in your service? Any concerns for my wife and everyone else on that flight? Or you just don't care????!!!</td>\n",
       "      <td>[@usairways, pride, service, concerns, wife, everyone, else, flight, care]</td>\n",
       "    </tr>\n",
       "    <tr>\n",
       "      <th>2849</th>\n",
       "      <td>negative</td>\n",
       "      <td>@USAirways Would you guys please send service agents to gate B15 in Philly?  All the people missed there connections and there's only 2.</td>\n",
       "      <td>[@usairways, would, guys, please, send, service, agents, gate, b15, philly, people, missed, connections, there's, 2]</td>\n",
       "    </tr>\n",
       "    <tr>\n",
       "      <th>3824</th>\n",
       "      <td>negative</td>\n",
       "      <td>@JetBlue apparently the plane was delayed coming up from San Juan. Monsoon there today?</td>\n",
       "      <td>[@jetblue, apparently, plane, delayed, coming, san, juan, monsoon, today]</td>\n",
       "    </tr>\n",
       "    <tr>\n",
       "      <th>9386</th>\n",
       "      <td>negative</td>\n",
       "      <td>@JetBlue This is the error message: Paper tickets cannot be serviced on-line.\\nPlease see a JetBlue Crewmember for assistance.</td>\n",
       "      <td>[@jetblue, error, message, :, paper, tickets, cannot, serviced, on-line, please, see, jetblue, crewmember, assistance]</td>\n",
       "    </tr>\n",
       "  </tbody>\n",
       "</table>\n",
       "</div>"
      ],
      "text/plain": [
       "     sentiment  \\\n",
       "7391  negative   \n",
       "6692  negative   \n",
       "2849  negative   \n",
       "3824  negative   \n",
       "9386  negative   \n",
       "\n",
       "                                                                                                                                             text  \\\n",
       "7391  Why even ask me to DM you and offer help if you \"can't do anything\" @united #terriblecustomerservice #unitedairlines http://t.co/feC4i3Vwq7   \n",
       "6692   @USAirways Do you have any pride in your service? Any concerns for my wife and everyone else on that flight? Or you just don't care????!!!   \n",
       "2849     @USAirways Would you guys please send service agents to gate B15 in Philly?  All the people missed there connections and there's only 2.   \n",
       "3824                                                      @JetBlue apparently the plane was delayed coming up from San Juan. Monsoon there today?   \n",
       "9386               @JetBlue This is the error message: Paper tickets cannot be serviced on-line.\\nPlease see a JetBlue Crewmember for assistance.   \n",
       "\n",
       "                                                                                                                  tokens_raw  \n",
       "7391                                    [even, ask, dm, offer, help, \", can't, anything, \", @united, http://t.co/fec4i3vwq7]  \n",
       "6692                                              [@usairways, pride, service, concerns, wife, everyone, else, flight, care]  \n",
       "2849    [@usairways, would, guys, please, send, service, agents, gate, b15, philly, people, missed, connections, there's, 2]  \n",
       "3824                                               [@jetblue, apparently, plane, delayed, coming, san, juan, monsoon, today]  \n",
       "9386  [@jetblue, error, message, :, paper, tickets, cannot, serviced, on-line, please, see, jetblue, crewmember, assistance]  "
      ]
     },
     "execution_count": 112,
     "metadata": {},
     "output_type": "execute_result"
    }
   ],
   "source": [
    "tk = TweetTokenizer()\n",
    "df_test['tokens_raw'] = df_test['text'].apply(lambda x: tk.tokenize(x.lower()))\n",
    "df_test['tokens_raw'] = df_test['tokens_raw'].apply(lambda x: [w for w in x if w not in stops])\n",
    "df_test['tokens_raw'] = df_test['tokens_raw'].apply(lambda x: [w for w in x if w not in chars2remove])\n",
    "df_test['tokens_raw'] = df_test['tokens_raw'].apply(lambda x: [w for w in x if not re.match('^#', w)]) # remove hashtags\n",
    "df_test.head()"
   ]
  },
  {
   "cell_type": "code",
   "execution_count": 113,
   "metadata": {},
   "outputs": [
    {
     "name": "stdout",
     "output_type": "stream",
     "text": [
      "X_test_int.shape = (1000, 9008)\n"
     ]
    },
    {
     "data": {
      "text/plain": [
       "numpy.ndarray"
      ]
     },
     "execution_count": 113,
     "metadata": {},
     "output_type": "execute_result"
    }
   ],
   "source": [
    "df_test['tokens'] = df_test['tokens_raw'].apply(lambda x: [lemmatizer.lemmatize(w, pos=\"v\") for w in x])\n",
    "df_test['textclean'] = df_test['tokens'].apply(lambda x: ' '.join(x))\n",
    "\n",
    "X_test_int = tfidf_vectorizer.transform(df_test['textclean']).toarray() # be sure that we are using .transform() here, and not .fit_transform()\n",
    "\n",
    "print(f\"X_test_int.shape = {X_test_int.shape}\")\n",
    "type(X_test_int)"
   ]
  },
  {
   "cell_type": "code",
   "execution_count": 114,
   "metadata": {},
   "outputs": [
    {
     "data": {
      "text/plain": [
       "torch.Size([1000, 9008])"
      ]
     },
     "execution_count": 114,
     "metadata": {},
     "output_type": "execute_result"
    }
   ],
   "source": [
    "X_test = torch.tensor(X_test_int).float()\n",
    "X_test.size()"
   ]
  },
  {
   "cell_type": "code",
   "execution_count": 115,
   "metadata": {},
   "outputs": [],
   "source": [
    "y_test = torch.tensor([label_to_idx[lab] for lab in df_test['sentiment']])"
   ]
  },
  {
   "cell_type": "code",
   "execution_count": 116,
   "metadata": {},
   "outputs": [],
   "source": [
    "test_dataset = AirlineTweetDataset(X_test, y_test)\n",
    "test_dataset.create_split(len(X_test), seed=42, train_perc=1.0)"
   ]
  },
  {
   "cell_type": "code",
   "execution_count": 117,
   "metadata": {},
   "outputs": [
    {
     "data": {
      "text/plain": [
       "1000"
      ]
     },
     "execution_count": 117,
     "metadata": {},
     "output_type": "execute_result"
    }
   ],
   "source": [
    "len(test_dataset)"
   ]
  },
  {
   "cell_type": "code",
   "execution_count": 118,
   "metadata": {},
   "outputs": [
    {
     "data": {
      "text/plain": [
       "{'x': tensor([0., 0., 0.,  ..., 0., 0., 0.]), 'y': tensor(2)}"
      ]
     },
     "execution_count": 118,
     "metadata": {},
     "output_type": "execute_result"
    }
   ],
   "source": [
    "test_dataset[999]"
   ]
  },
  {
   "cell_type": "code",
   "execution_count": 119,
   "metadata": {},
   "outputs": [],
   "source": [
    "bs = 500\n",
    "test_loader = DataLoader(dataset=test_dataset, batch_size=bs, shuffle=False)"
   ]
  },
  {
   "cell_type": "code",
   "execution_count": 120,
   "metadata": {},
   "outputs": [
    {
     "name": "stdout",
     "output_type": "stream",
     "text": [
      "Accuracy (on 1000 test tweets): 75.90%\n"
     ]
    }
   ],
   "source": [
    "y_true = []\n",
    "y_pred = []\n",
    "with torch.no_grad():\n",
    "    correct = 0\n",
    "    total = 0\n",
    "    for batch_data in test_loader:\n",
    "        tweets = batch_data['x'].to(device)\n",
    "        labels = batch_data['y'].to(device)\n",
    "        outputs = model(tweets)\n",
    "        _, predicted = torch.max(outputs.data, 1)\n",
    "        y_true += labels.tolist()\n",
    "        y_pred += predicted.tolist()\n",
    "        total += labels.size(0)\n",
    "        correct += (predicted == labels).sum().item()\n",
    "\n",
    "    print(f\"Accuracy (on {len(test_loader)*bs} test tweets): {100 * correct / total:.2f}%\")"
   ]
  },
  {
   "cell_type": "code",
   "execution_count": 121,
   "metadata": {},
   "outputs": [
    {
     "data": {
      "text/plain": [
       "<sklearn.metrics._plot.confusion_matrix.ConfusionMatrixDisplay at 0x33236db90>"
      ]
     },
     "execution_count": 121,
     "metadata": {},
     "output_type": "execute_result"
    },
    {
     "data": {
      "image/png": "[encoded data removed]",
      "text/plain": [
       "<Figure size 1500x400 with 2 Axes>"
      ]
     },
     "metadata": {},
     "output_type": "display_data"
    }
   ],
   "source": [
    "from sklearn.metrics import confusion_matrix, ConfusionMatrixDisplay\n",
    "cm = confusion_matrix(y_true, y_pred)\n",
    "disp = ConfusionMatrixDisplay(cm, display_labels=['positive','neutral','negative'])\n",
    "disp.plot()"
   ]
  },
  {
   "cell_type": "code",
   "execution_count": null,
   "metadata": {},
   "outputs": [],
   "source": []
  },
  {
   "cell_type": "code",
   "execution_count": null,
   "metadata": {},
   "outputs": [],
   "source": []
  }
 ],
 "metadata": {
  "kernelspec": {
   "display_name": "Python 3 (ipykernel)",
   "language": "python",
   "name": "python3"
  },
  "language_info": {
   "codemirror_mode": {
    "name": "ipython",
    "version": 3
   },
   "file_extension": ".py",
   "mimetype": "text/x-python",
   "name": "python",
   "nbconvert_exporter": "python",
   "pygments_lexer": "ipython3",
   "version": "3.11.3"
  },
  "vscode": {
   "interpreter": {
    "hash": "bb3398f4b21c7b026dd5874af3f954bf25f1e8ff81e25d82a94abcbbaacf760b"
   }
  }
 },
 "nbformat": 4,
 "nbformat_minor": 2
}
